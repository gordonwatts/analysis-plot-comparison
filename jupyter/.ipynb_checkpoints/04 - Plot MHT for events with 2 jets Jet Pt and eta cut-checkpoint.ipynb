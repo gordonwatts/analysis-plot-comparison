{
 "cells": [
  {
   "cell_type": "markdown",
   "metadata": {},
   "source": [
    "## Initalization\n",
    "Load up everything needed. This is tricky because we now have to deal with a non-strucutre preserving operations to count the number of jets and turn that into a number associated with each entry."
   ]
  },
  {
   "cell_type": "code",
   "execution_count": 1,
   "metadata": {},
   "outputs": [
    {
     "name": "stdout",
     "output_type": "stream",
     "text": [
      "Wall time: 1.33 s\n"
     ]
    }
   ],
   "source": [
    "%%time\n",
    "import pandas as pd\n",
    "import uproot\n",
    "import matplotlib.pyplot as plt\n",
    "plt.rc('font', size=14)\n",
    "import numpy as np"
   ]
  },
  {
   "cell_type": "markdown",
   "metadata": {},
   "source": [
    "## Load required data from a file\n",
    "In this case we will load only the MET branch as we are trying to be as efficient as we can. The call to keys() below will dump out all possible leaves that we could be loading in"
   ]
  },
  {
   "cell_type": "code",
   "execution_count": 2,
   "metadata": {
    "collapsed": true
   },
   "outputs": [],
   "source": [
    "file = [r'file://C:\\Users\\gordo\\Documents\\GRIDDS\\user.emma.mc15_13TeV.361023.Pythia8EvtGen_A14NNPDF23LO_jetjet_JZ3W.merge.DAOD_EXOT15.e3668_s2576_s2132_r7773_r7676_p2952.v201\\copied\\ntuples_QCD_JZ3__0_addFullEtaMLP.root']\n",
    "reco_tree = uproot.open(file[0])[\"recoTree\"]"
   ]
  },
  {
   "cell_type": "code",
   "execution_count": 3,
   "metadata": {
    "scrolled": false
   },
   "outputs": [
    {
     "data": {
      "text/plain": [
       "[b'eventNumber',\n",
       " b'eventCount',\n",
       " b'runNumber',\n",
       " b'lumiBlock',\n",
       " b'backgroundFlags',\n",
       " b'eventWeight',\n",
       " b'prwHash',\n",
       " b'pdfEventWeights',\n",
       " b'pileupEventWeight',\n",
       " b'xSecEventWeight',\n",
       " b'actualIntPerCrossing',\n",
       " b'averageIntPerCrossing',\n",
       " b'event_HT',\n",
       " b'event_MHToHT',\n",
       " b'event_NJets',\n",
       " b'event_NCleanJets',\n",
       " b'event_NBIBJets',\n",
       " b'event_HTMiss',\n",
       " b'event_Meff',\n",
       " b'event_sumMinDR',\n",
       " b'event_tauRoI_maxET',\n",
       " b'event_passCalRatio_cleanLLP_TAU60',\n",
       " b'event_passCalRatio_cleanLLP_TAU60_noiso',\n",
       " b'event_passL1TAU60',\n",
       " b'event_passCalRatio_cleanLLP_LLPNOMATCH',\n",
       " b'event_passCalRatio_cleanLLP_LLPNOMATCH_noiso',\n",
       " b'event_passEmulationCalRatio_cleanLLP_LLPNOMATCH_noiso',\n",
       " b'event_passL1LLPNOMATCH',\n",
       " b'event_passEmulationL1LLPNOMATCH',\n",
       " b'event_passCalRatio_cleanLLP_LLPRO',\n",
       " b'event_passCalRatio_cleanLLP_LLPRO_noiso',\n",
       " b'event_passL1LLPRO',\n",
       " b'event_passJ25',\n",
       " b'event_passJ100',\n",
       " b'event_passJ400',\n",
       " b'event_passJ150_bperf_split',\n",
       " b'event_passJ15_bperf_split',\n",
       " b'event_passJ320_bperf_split',\n",
       " b'event_passJ45_bperf_split_3j45',\n",
       " b'event_passJ55_bperf_split',\n",
       " b'event_passJ85_bperf_split',\n",
       " b'event_pass3J175',\n",
       " b'event_pass3J200',\n",
       " b'event_pass4J100',\n",
       " b'event_pass4J110',\n",
       " b'event_pass4J120',\n",
       " b'event_PSJ25',\n",
       " b'event_PSJ100',\n",
       " b'event_PSJ400',\n",
       " b'event_PSJ150_bperf_split',\n",
       " b'event_PSJ15_bperf_split',\n",
       " b'event_PSJ320_bperf_split',\n",
       " b'event_PSJ45_bperf_split_3j45',\n",
       " b'event_PSJ55_bperf_split',\n",
       " b'event_PSJ85_bperf_split',\n",
       " b'event_PS3J175',\n",
       " b'event_PS3J200',\n",
       " b'event_PS4J100',\n",
       " b'event_PS4J110',\n",
       " b'event_PS4J120',\n",
       " b'dPhiLeadBDTsignalWeight_cleanJet',\n",
       " b'dRLeadBDTsignalWeight_cleanJet',\n",
       " b'dPhiLeadBDTmultijetsWeight_cleanJet',\n",
       " b'dRLeadBDTmultijetsWeight_cleanJet',\n",
       " b'eventBDT_value',\n",
       " b'BDT3weights_signal_cleanJet_index',\n",
       " b'BDT3weights_multijets_cleanJet_index',\n",
       " b'BDT3weights_bib_cleanJet_index',\n",
       " b'CalibJet_isGoodStand',\n",
       " b'CalibJet_isGoodLLP',\n",
       " b'CalibJet_ET',\n",
       " b'CalibJet_pT',\n",
       " b'CalibJet_eta',\n",
       " b'CalibJet_phi',\n",
       " b'CalibJet_width',\n",
       " b'CalibJet_logRatio',\n",
       " b'CalibJet_time',\n",
       " b'CalibJet_jvt',\n",
       " b'CalibJet_passJVT',\n",
       " b'CalibJet_BDT3weights_signal',\n",
       " b'CalibJet_BDT3weights_multijets',\n",
       " b'CalibJet_BDT3weights_bib',\n",
       " b'CalibJet_isCRHLTJet',\n",
       " b'CalibJet_indexLLP',\n",
       " b'CalibJet_nTrk',\n",
       " b'CalibJet_sumTrkpT',\n",
       " b'CalibJet_maxTrkpT',\n",
       " b'CalibJet_minDRTrkpt2',\n",
       " b'CalibJet_BIBDeltaTimingM',\n",
       " b'CalibJet_BIBDeltaTimingP',\n",
       " b'CalibJet_matchPassEmul',\n",
       " b'CalibJet_cluster_nClusters',\n",
       " b'CalibJet_cluster_lead_center',\n",
       " b'CalibJet_cluster_lead_x',\n",
       " b'CalibJet_cluster_lead_y',\n",
       " b'CalibJet_cluster_lead_z',\n",
       " b'CalibJet_cluster_lead_r',\n",
       " b'CalibJet_cluster_lead_Lxy',\n",
       " b'CalibJet_cluster_lead_ET',\n",
       " b'CalibJet_cluster_lead_pT',\n",
       " b'CalibJet_cluster_lead_eta',\n",
       " b'CalibJet_cluster_lead_phi',\n",
       " b'CalibJet_cluster_lead_time',\n",
       " b'CalibJet_cluster_lead_lambda',\n",
       " b'CalibJet_cluster_lead_lateral',\n",
       " b'CalibJet_cluster_lead_longitudinal',\n",
       " b'CalibJet_cluster_lead_first_Eden',\n",
       " b'CalibJet_cluster_lead_fracE_ofjet',\n",
       " b'CalibJet_Reg_Lxy',\n",
       " b'CalibJet_Reg_Lz',\n",
       " b'CalibJet_Reg_Lxy_fullEta',\n",
       " b'CalibJet_Reg_Lz_fullEta',\n",
       " b'CalibJet_Reg_Lxy_highEta',\n",
       " b'CalibJet_Reg_Lz_highEta',\n",
       " b'CalibJet_Reg_Lxy_lowEta',\n",
       " b'CalibJet_Reg_Lz_lowEta',\n",
       " b'CalibJet_f_EH_layer0_cenbar',\n",
       " b'CalibJet_f_EH_layer1_cenbar',\n",
       " b'CalibJet_f_EH_layer2_cenbar',\n",
       " b'CalibJet_f_EH_layer1_tilegap',\n",
       " b'CalibJet_f_EH_layer2_tilegap',\n",
       " b'CalibJet_f_EH_layer3_tilegap',\n",
       " b'CalibJet_f_EH_layer0_extbar',\n",
       " b'CalibJet_f_EH_layer1_extbar',\n",
       " b'CalibJet_f_EH_layer2_extbar',\n",
       " b'CalibJet_f_EH_layer0_end',\n",
       " b'CalibJet_f_EH_layer1_end',\n",
       " b'CalibJet_f_EH_layer2_end',\n",
       " b'CalibJet_f_EH_layer3_end',\n",
       " b'CalibJet_f_EEM_layer0_bar',\n",
       " b'CalibJet_f_EEM_layer1_bar',\n",
       " b'CalibJet_f_EEM_layer2_bar',\n",
       " b'CalibJet_f_EEM_layer3_bar',\n",
       " b'CalibJet_f_EEM_layer0_end',\n",
       " b'CalibJet_f_EEM_layer1_end',\n",
       " b'CalibJet_f_EEM_layer2_end',\n",
       " b'CalibJet_f_EEM_layer3_end',\n",
       " b'CalibJet_f_EH_l1frac',\n",
       " b'LLP_E',\n",
       " b'LLP_pT',\n",
       " b'LLP_eta',\n",
       " b'LLP_phi',\n",
       " b'LLP_beta',\n",
       " b'LLP_timing',\n",
       " b'LLP_Lxy',\n",
       " b'LLP_Lz',\n",
       " b'LLP_dR_Jet',\n",
       " b'LLP_nJet_dRlt04']"
      ]
     },
     "execution_count": 3,
     "metadata": {},
     "output_type": "execute_result"
    }
   ],
   "source": [
    "reco_tree.keys()"
   ]
  },
  {
   "cell_type": "code",
   "execution_count": 4,
   "metadata": {},
   "outputs": [
    {
     "name": "stdout",
     "output_type": "stream",
     "text": [
      "Wall time: 2.78 s\n"
     ]
    }
   ],
   "source": [
    "%%time\n",
    "jetinfo = reco_tree.arrays(['event_HTMiss', 'CalibJet_pT', 'CalibJet_eta'])"
   ]
  },
  {
   "cell_type": "code",
   "execution_count": 5,
   "metadata": {},
   "outputs": [
    {
     "name": "stdout",
     "output_type": "stream",
     "text": [
      "Wall time: 0 ns\n"
     ]
    },
    {
     "data": {
      "text/plain": [
       "{b'CalibJet_eta': jaggedarray([[ 0.42504969  0.82514822 -0.24560158  1.60645711  3.64541936],\n",
       "              [-0.16888061  0.1167803   0.60289824 ... -2.57046103 -0.32872817 -0.55654931],\n",
       "              [-0.35294127  1.94779444 -0.57573891 ...  1.33996677 -2.16915703 -1.78981686],\n",
       "              ...,\n",
       "              [-1.42732191  0.04638668  0.26895449 -0.78984368  2.15724277],\n",
       "              [-1.18132842 -1.60765386 -0.61740237 ...  0.027003    3.22726488  3.80523849],\n",
       "              [ 0.07581185 -2.15132952 -3.07128119 ... -1.19127274 -3.24213314 -2.82043338]]),\n",
       " b'CalibJet_pT': jaggedarray([[ 397.33746875  102.14053125  101.37173438   46.37198437   21.0346543 ],\n",
       "              [ 325.38840625  224.84854688   87.839875   ...  18.348625    18.21963672  17.38869336],\n",
       "              [ 355.8906875   175.6294375   124.04192187 ...  21.37303516  20.47201172  20.25007031],\n",
       "              ...,\n",
       "              [ 383.48553125  311.0424375    80.18246094   26.22417773   18.08358008],\n",
       "              [ 257.60276563  158.55284375   77.27360156 ...  23.14483984  21.61642773  15.90926465],\n",
       "              [ 220.57328125   69.04777344   60.0375625  ...  20.88332812  20.22796289  19.06125195]]),\n",
       " b'event_HTMiss': array([ 150.71141425,   29.85045039,   36.11922791, ...,   43.59516425,\n",
       "          82.35453466,   47.14255891])}"
      ]
     },
     "execution_count": 5,
     "metadata": {},
     "output_type": "execute_result"
    }
   ],
   "source": [
    "%%time\n",
    "jetinfo"
   ]
  },
  {
   "cell_type": "markdown",
   "metadata": {},
   "source": [
    "## Select\n",
    "Figure out what the selection is for the events"
   ]
  },
  {
   "cell_type": "code",
   "execution_count": 6,
   "metadata": {},
   "outputs": [
    {
     "name": "stdout",
     "output_type": "stream",
     "text": [
      "Wall time: 160 ms\n"
     ]
    }
   ],
   "source": [
    "%%time\n",
    "eta = jetinfo[b'CalibJet_eta']\n",
    "good_eta = np.abs(eta.content) < 2.0\n",
    "pt = jetinfo[b'CalibJet_pT']\n",
    "good_pt = pt.content > 40.0\n",
    "good_jet = uproot.interp.jagged.JaggedArray(good_eta & good_pt, eta.starts, eta.stops)"
   ]
  },
  {
   "cell_type": "code",
   "execution_count": 7,
   "metadata": {},
   "outputs": [
    {
     "name": "stdout",
     "output_type": "stream",
     "text": [
      "Wall time: 48.8 s\n"
     ]
    }
   ],
   "source": [
    "%%time\n",
    "good_event = [sum(l) > 2.0 for l in good_jet]"
   ]
  },
  {
   "cell_type": "markdown",
   "metadata": {},
   "source": [
    "## Plot\n",
    "plot everything"
   ]
  },
  {
   "cell_type": "code",
   "execution_count": 8,
   "metadata": {},
   "outputs": [
    {
     "data": {
      "image/png": "[encoded data removed]",
      "text/plain": [
       "<matplotlib.figure.Figure at 0x1f0902b8978>"
      ]
     },
     "metadata": {},
     "output_type": "display_data"
    },
    {
     "name": "stdout",
     "output_type": "stream",
     "text": [
      "Wall time: 940 ms\n"
     ]
    }
   ],
   "source": [
    "%%time\n",
    "# First, figure out which jets have a good eta\n",
    "mht = jetinfo[b'event_HTMiss']\n",
    "\n",
    "plt.hist(mht[good_event], bins=100)\n",
    "plt.xlabel('Missing $H_{T}$ [GeV]')\n",
    "plt.text(300, 60000, \"Entries: {0}\".format(len(mht[good_event])))\n",
    "plt.show()"
   ]
  },
  {
   "cell_type": "code",
   "execution_count": null,
   "metadata": {
    "collapsed": true
   },
   "outputs": [],
   "source": []
  }
 ],
 "metadata": {
  "kernelspec": {
   "display_name": "Python 3",
   "language": "python",
   "name": "python3"
  },
  "language_info": {
   "codemirror_mode": {
    "name": "ipython",
    "version": 3
   },
   "file_extension": ".py",
   "mimetype": "text/x-python",
   "name": "python",
   "nbconvert_exporter": "python",
   "pygments_lexer": "ipython3",
   "version": "3.6.3"
  }
 },
 "nbformat": 4,
 "nbformat_minor": 2
}
